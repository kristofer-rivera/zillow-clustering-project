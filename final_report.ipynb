{
 "cells": [
  {
   "cell_type": "markdown",
   "id": "13f0b18f",
   "metadata": {},
   "source": [
    "# Zillow Clustering Project\n",
    "## *Predicting Logerror*\n",
    "\n",
    "by Kristofer Rivera\n",
    "2022-04-08\n",
    "\n",
    "## Project Overview\n",
    "\n",
    "### Project Description\n",
    "\n",
    "# Project Description and Goals\n",
    "In this project, my goals are to determine drivers of error in Zillow home value predictions using data analysis and statistical testing and use this analysis to help build a machine learning model that can predict the error. \n",
    "\n",
    "### Project Goals\n",
    "- Construct an ML Regression model incorporating clustering techniques that predicts logerror for Single Unit Properties that had a transaction in 2017 using attributes of the properties.\n",
    "- Find key drivers of logerror.\n",
    "- Make recommendations on what works or doesn't work in predicting logerror.\n",
    "\n",
    "\n",
    "### Necessary Imports"
   ]
  },
  {
   "cell_type": "code",
   "execution_count": 1,
   "id": "1418fb93",
   "metadata": {},
   "outputs": [],
   "source": [
    "#Imports for dataframe manipulation \n",
    "import pandas as pd\n",
    "\n",
    "#Imports for statistical analysis\n",
    "from scipy import stats\n",
    "import statistics\n",
    "\n",
    "#Imports for creating visualizations\n",
    "import matplotlib.pyplot as plt \n",
    "import seaborn as sns\n",
    "\n",
    "#Imports for user defined functions\n",
    "import wrangle as w\n",
    "import explore as ex\n",
    "\n",
    "#Imports for preprocessing\n",
    "from sklearn.preprocessing import MinMaxScaler, PolynomialFeatures\n",
    "from sklearn.cluster import KMeans\n",
    "\n",
    "#Imports for modeling and evaluation\n",
    "from sklearn.linear_model import LinearRegression, LassoLars, TweedieRegressor\n",
    "from sklearn.metrics import r2_score\n",
    "\n",
    "import warnings\n",
    "warnings.filterwarnings(\"ignore\")"
   ]
  },
  {
   "cell_type": "markdown",
   "id": "1a82ecbb",
   "metadata": {},
   "source": [
    "## Wrangle Zillow Data\n",
    "\n",
    "I used the following SQL query to acquire the required data from the CodeUp MySQL server:\n",
    "\n",
    "`SELECT\n",
    "        prop.*,\n",
    "        predictions_2017.logerror,\n",
    "        predictions_2017.transactiondate,\n",
    "        air.airconditioningdesc,\n",
    "        arch.architecturalstyledesc,\n",
    "        build.buildingclassdesc,\n",
    "        heat.heatingorsystemdesc,\n",
    "        landuse.propertylandusedesc,\n",
    "        story.storydesc,\n",
    "        construct.typeconstructiondesc\n",
    "    FROM properties_2017 prop\n",
    "    JOIN (\n",
    "        SELECT parcelid, MAX(transactiondate) AS max_transactiondate\n",
    "        FROM predictions_2017\n",
    "        GROUP BY parcelid) pred USING(parcelid)\n",
    "    JOIN predictions_2017 ON pred.parcelid = predictions_2017.parcelid AND pred.max_transactiondate = predictions_2017.transactiondate\n",
    "    LEFT JOIN airconditioningtype air USING (airconditioningtypeid)\n",
    "    LEFT JOIN architecturalstyletype arch USING (architecturalstyletypeid)\n",
    "    LEFT JOIN buildingclasstype build USING (buildingclasstypeid)\n",
    "    LEFT JOIN heatingorsystemtype heat USING (heatingorsystemtypeid)\n",
    "    LEFT JOIN propertylandusetype landuse USING (propertylandusetypeid)\n",
    "    LEFT JOIN storytype story USING (storytypeid)\n",
    "    LEFT JOIN typeconstructiontype construct USING (typeconstructiontypeid)\n",
    "    WHERE prop.latitude IS NOT NULL AND prop.longitude IS NOT NULL AND transactiondate <= '2017-12-31';`. \n",
    "        \n",
    "**Below is an example of the raw data acquired with my sql query (this is before any cleaning or prep):**"
   ]
  },
  {
   "cell_type": "code",
   "execution_count": 2,
   "id": "e66dff30",
   "metadata": {},
   "outputs": [
    {
     "name": "stdout",
     "output_type": "stream",
     "text": [
      "Using cached csv...\n"
     ]
    },
    {
     "data": {
      "text/html": [
       "<div>\n",
       "<style scoped>\n",
       "    .dataframe tbody tr th:only-of-type {\n",
       "        vertical-align: middle;\n",
       "    }\n",
       "\n",
       "    .dataframe tbody tr th {\n",
       "        vertical-align: top;\n",
       "    }\n",
       "\n",
       "    .dataframe thead th {\n",
       "        text-align: right;\n",
       "    }\n",
       "</style>\n",
       "<table border=\"1\" class=\"dataframe\">\n",
       "  <thead>\n",
       "    <tr style=\"text-align: right;\">\n",
       "      <th></th>\n",
       "      <th>id</th>\n",
       "      <th>parcelid</th>\n",
       "      <th>airconditioningtypeid</th>\n",
       "      <th>architecturalstyletypeid</th>\n",
       "      <th>basementsqft</th>\n",
       "      <th>bathroomcnt</th>\n",
       "      <th>bedroomcnt</th>\n",
       "      <th>buildingclasstypeid</th>\n",
       "      <th>buildingqualitytypeid</th>\n",
       "      <th>calculatedbathnbr</th>\n",
       "      <th>...</th>\n",
       "      <th>censustractandblock</th>\n",
       "      <th>logerror</th>\n",
       "      <th>transactiondate</th>\n",
       "      <th>airconditioningdesc</th>\n",
       "      <th>architecturalstyledesc</th>\n",
       "      <th>buildingclassdesc</th>\n",
       "      <th>heatingorsystemdesc</th>\n",
       "      <th>propertylandusedesc</th>\n",
       "      <th>storydesc</th>\n",
       "      <th>typeconstructiondesc</th>\n",
       "    </tr>\n",
       "  </thead>\n",
       "  <tbody>\n",
       "    <tr>\n",
       "      <th>0</th>\n",
       "      <td>1727539</td>\n",
       "      <td>14297519</td>\n",
       "      <td>NaN</td>\n",
       "      <td>NaN</td>\n",
       "      <td>NaN</td>\n",
       "      <td>3.5</td>\n",
       "      <td>4.0</td>\n",
       "      <td>NaN</td>\n",
       "      <td>NaN</td>\n",
       "      <td>3.5</td>\n",
       "      <td>...</td>\n",
       "      <td>6.059063e+13</td>\n",
       "      <td>0.025595</td>\n",
       "      <td>2017-01-01</td>\n",
       "      <td>NaN</td>\n",
       "      <td>NaN</td>\n",
       "      <td>NaN</td>\n",
       "      <td>NaN</td>\n",
       "      <td>Single Family Residential</td>\n",
       "      <td>NaN</td>\n",
       "      <td>NaN</td>\n",
       "    </tr>\n",
       "    <tr>\n",
       "      <th>1</th>\n",
       "      <td>1387261</td>\n",
       "      <td>17052889</td>\n",
       "      <td>NaN</td>\n",
       "      <td>NaN</td>\n",
       "      <td>NaN</td>\n",
       "      <td>1.0</td>\n",
       "      <td>2.0</td>\n",
       "      <td>NaN</td>\n",
       "      <td>NaN</td>\n",
       "      <td>1.0</td>\n",
       "      <td>...</td>\n",
       "      <td>6.111001e+13</td>\n",
       "      <td>0.055619</td>\n",
       "      <td>2017-01-01</td>\n",
       "      <td>NaN</td>\n",
       "      <td>NaN</td>\n",
       "      <td>NaN</td>\n",
       "      <td>NaN</td>\n",
       "      <td>Single Family Residential</td>\n",
       "      <td>NaN</td>\n",
       "      <td>NaN</td>\n",
       "    </tr>\n",
       "    <tr>\n",
       "      <th>2</th>\n",
       "      <td>11677</td>\n",
       "      <td>14186244</td>\n",
       "      <td>NaN</td>\n",
       "      <td>NaN</td>\n",
       "      <td>NaN</td>\n",
       "      <td>2.0</td>\n",
       "      <td>3.0</td>\n",
       "      <td>NaN</td>\n",
       "      <td>NaN</td>\n",
       "      <td>2.0</td>\n",
       "      <td>...</td>\n",
       "      <td>6.059022e+13</td>\n",
       "      <td>0.005383</td>\n",
       "      <td>2017-01-01</td>\n",
       "      <td>NaN</td>\n",
       "      <td>NaN</td>\n",
       "      <td>NaN</td>\n",
       "      <td>NaN</td>\n",
       "      <td>Single Family Residential</td>\n",
       "      <td>NaN</td>\n",
       "      <td>NaN</td>\n",
       "    </tr>\n",
       "    <tr>\n",
       "      <th>3</th>\n",
       "      <td>2288172</td>\n",
       "      <td>12177905</td>\n",
       "      <td>NaN</td>\n",
       "      <td>NaN</td>\n",
       "      <td>NaN</td>\n",
       "      <td>3.0</td>\n",
       "      <td>4.0</td>\n",
       "      <td>NaN</td>\n",
       "      <td>8.0</td>\n",
       "      <td>3.0</td>\n",
       "      <td>...</td>\n",
       "      <td>6.037300e+13</td>\n",
       "      <td>-0.103410</td>\n",
       "      <td>2017-01-01</td>\n",
       "      <td>NaN</td>\n",
       "      <td>NaN</td>\n",
       "      <td>NaN</td>\n",
       "      <td>Central</td>\n",
       "      <td>Single Family Residential</td>\n",
       "      <td>NaN</td>\n",
       "      <td>NaN</td>\n",
       "    </tr>\n",
       "    <tr>\n",
       "      <th>4</th>\n",
       "      <td>1970746</td>\n",
       "      <td>10887214</td>\n",
       "      <td>1.0</td>\n",
       "      <td>NaN</td>\n",
       "      <td>NaN</td>\n",
       "      <td>3.0</td>\n",
       "      <td>3.0</td>\n",
       "      <td>NaN</td>\n",
       "      <td>8.0</td>\n",
       "      <td>3.0</td>\n",
       "      <td>...</td>\n",
       "      <td>6.037124e+13</td>\n",
       "      <td>0.006940</td>\n",
       "      <td>2017-01-01</td>\n",
       "      <td>Central</td>\n",
       "      <td>NaN</td>\n",
       "      <td>NaN</td>\n",
       "      <td>Central</td>\n",
       "      <td>Condominium</td>\n",
       "      <td>NaN</td>\n",
       "      <td>NaN</td>\n",
       "    </tr>\n",
       "  </tbody>\n",
       "</table>\n",
       "<p>5 rows × 68 columns</p>\n",
       "</div>"
      ],
      "text/plain": [
       "        id  parcelid  airconditioningtypeid  architecturalstyletypeid  \\\n",
       "0  1727539  14297519                    NaN                       NaN   \n",
       "1  1387261  17052889                    NaN                       NaN   \n",
       "2    11677  14186244                    NaN                       NaN   \n",
       "3  2288172  12177905                    NaN                       NaN   \n",
       "4  1970746  10887214                    1.0                       NaN   \n",
       "\n",
       "   basementsqft  bathroomcnt  bedroomcnt  buildingclasstypeid  \\\n",
       "0           NaN          3.5         4.0                  NaN   \n",
       "1           NaN          1.0         2.0                  NaN   \n",
       "2           NaN          2.0         3.0                  NaN   \n",
       "3           NaN          3.0         4.0                  NaN   \n",
       "4           NaN          3.0         3.0                  NaN   \n",
       "\n",
       "   buildingqualitytypeid  calculatedbathnbr  ...  censustractandblock  \\\n",
       "0                    NaN                3.5  ...         6.059063e+13   \n",
       "1                    NaN                1.0  ...         6.111001e+13   \n",
       "2                    NaN                2.0  ...         6.059022e+13   \n",
       "3                    8.0                3.0  ...         6.037300e+13   \n",
       "4                    8.0                3.0  ...         6.037124e+13   \n",
       "\n",
       "   logerror  transactiondate  airconditioningdesc  architecturalstyledesc  \\\n",
       "0  0.025595       2017-01-01                  NaN                     NaN   \n",
       "1  0.055619       2017-01-01                  NaN                     NaN   \n",
       "2  0.005383       2017-01-01                  NaN                     NaN   \n",
       "3 -0.103410       2017-01-01                  NaN                     NaN   \n",
       "4  0.006940       2017-01-01              Central                     NaN   \n",
       "\n",
       "   buildingclassdesc  heatingorsystemdesc        propertylandusedesc  \\\n",
       "0                NaN                  NaN  Single Family Residential   \n",
       "1                NaN                  NaN  Single Family Residential   \n",
       "2                NaN                  NaN  Single Family Residential   \n",
       "3                NaN              Central  Single Family Residential   \n",
       "4                NaN              Central                Condominium   \n",
       "\n",
       "   storydesc  typeconstructiondesc  \n",
       "0        NaN                   NaN  \n",
       "1        NaN                   NaN  \n",
       "2        NaN                   NaN  \n",
       "3        NaN                   NaN  \n",
       "4        NaN                   NaN  \n",
       "\n",
       "[5 rows x 68 columns]"
      ]
     },
     "execution_count": 2,
     "metadata": {},
     "output_type": "execute_result"
    }
   ],
   "source": [
    "#Pre-defined function that gathers my data with a sql query and caches it locally as a csv, \n",
    "# Data is read from the csv on future calls of the function\n",
    "df = w.acquire()\n",
    "df.head()"
   ]
  },
  {
   "cell_type": "code",
   "execution_count": 3,
   "id": "677f1958",
   "metadata": {},
   "outputs": [
    {
     "name": "stdout",
     "output_type": "stream",
     "text": [
      "<class 'pandas.core.frame.DataFrame'>\n",
      "RangeIndex: 77380 entries, 0 to 77379\n",
      "Data columns (total 68 columns):\n",
      " #   Column                        Non-Null Count  Dtype  \n",
      "---  ------                        --------------  -----  \n",
      " 0   id                            77380 non-null  int64  \n",
      " 1   parcelid                      77380 non-null  int64  \n",
      " 2   airconditioningtypeid         24953 non-null  float64\n",
      " 3   architecturalstyletypeid      206 non-null    float64\n",
      " 4   basementsqft                  50 non-null     float64\n",
      " 5   bathroomcnt                   77380 non-null  float64\n",
      " 6   bedroomcnt                    77380 non-null  float64\n",
      " 7   buildingclasstypeid           15 non-null     float64\n",
      " 8   buildingqualitytypeid         49671 non-null  float64\n",
      " 9   calculatedbathnbr             76771 non-null  float64\n",
      " 10  decktypeid                    614 non-null    float64\n",
      " 11  finishedfloor1squarefeet      6023 non-null   float64\n",
      " 12  calculatedfinishedsquarefeet  77184 non-null  float64\n",
      " 13  finishedsquarefeet12          73748 non-null  float64\n",
      " 14  finishedsquarefeet13          41 non-null     float64\n",
      " 15  finishedsquarefeet15          3009 non-null   float64\n",
      " 16  finishedsquarefeet50          6023 non-null   float64\n",
      " 17  finishedsquarefeet6           386 non-null    float64\n",
      " 18  fips                          77380 non-null  float64\n",
      " 19  fireplacecnt                  8276 non-null   float64\n",
      " 20  fullbathcnt                   76771 non-null  float64\n",
      " 21  garagecarcnt                  25474 non-null  float64\n",
      " 22  garagetotalsqft               25474 non-null  float64\n",
      " 23  hashottuborspa                1538 non-null   float64\n",
      " 24  heatingorsystemtypeid         49439 non-null  float64\n",
      " 25  latitude                      77380 non-null  float64\n",
      " 26  longitude                     77380 non-null  float64\n",
      " 27  lotsizesquarefeet             69141 non-null  float64\n",
      " 28  poolcnt                       16137 non-null  float64\n",
      " 29  poolsizesum                   867 non-null    float64\n",
      " 30  pooltypeid10                  464 non-null    float64\n",
      " 31  pooltypeid2                   1074 non-null   float64\n",
      " 32  pooltypeid7                   15042 non-null  float64\n",
      " 33  propertycountylandusecode     77380 non-null  object \n",
      " 34  propertylandusetypeid         77380 non-null  float64\n",
      " 35  propertyzoningdesc            50330 non-null  object \n",
      " 36  rawcensustractandblock        77380 non-null  float64\n",
      " 37  regionidcity                  75909 non-null  float64\n",
      " 38  regionidcounty                77380 non-null  float64\n",
      " 39  regionidneighborhood          30890 non-null  float64\n",
      " 40  regionidzip                   77330 non-null  float64\n",
      " 41  roomcnt                       77380 non-null  float64\n",
      " 42  storytypeid                   50 non-null     float64\n",
      " 43  threequarterbathnbr           10096 non-null  float64\n",
      " 44  typeconstructiontypeid        222 non-null    float64\n",
      " 45  unitcnt                       50562 non-null  float64\n",
      " 46  yardbuildingsqft17            2388 non-null   float64\n",
      " 47  yardbuildingsqft26            70 non-null     float64\n",
      " 48  yearbuilt                     77117 non-null  float64\n",
      " 49  numberofstories               17560 non-null  float64\n",
      " 50  fireplaceflag                 172 non-null    float64\n",
      " 51  structuretaxvaluedollarcnt    77268 non-null  float64\n",
      " 52  taxvaluedollarcnt             77379 non-null  float64\n",
      " 53  assessmentyear                77380 non-null  float64\n",
      " 54  landtaxvaluedollarcnt         77378 non-null  float64\n",
      " 55  taxamount                     77375 non-null  float64\n",
      " 56  taxdelinquencyflag            2886 non-null   object \n",
      " 57  taxdelinquencyyear            2886 non-null   float64\n",
      " 58  censustractandblock           77136 non-null  float64\n",
      " 59  logerror                      77380 non-null  float64\n",
      " 60  transactiondate               77380 non-null  object \n",
      " 61  airconditioningdesc           24953 non-null  object \n",
      " 62  architecturalstyledesc        206 non-null    object \n",
      " 63  buildingclassdesc             15 non-null     object \n",
      " 64  heatingorsystemdesc           49439 non-null  object \n",
      " 65  propertylandusedesc           77380 non-null  object \n",
      " 66  storydesc                     50 non-null     object \n",
      " 67  typeconstructiondesc          222 non-null    object \n",
      "dtypes: float64(55), int64(2), object(11)\n",
      "memory usage: 40.1+ MB\n"
     ]
    }
   ],
   "source": [
    "# Summary of my raw data\n",
    "df.info()"
   ]
  },
  {
   "cell_type": "markdown",
   "id": "09d746ca",
   "metadata": {},
   "source": [
    "**My original raw data frame contained 77380 rows and 68 columns.**\n",
    "\n",
    "**To clean/prep the data, I did the following:**\n",
    "\n",
    "1. Renamed columns for clarity and readability.\n",
    "2. Dropped columns with too many nulls to be useful.\n",
    "2. Removed outliers that were skewing my data in order to achieve more normal distributions.\n",
    "3. Changed data types where appropriate for readability or to denote categorical variables. (Floats to ints, ints to strings/objects.)\n",
    "4. For clearer exploration, I converted the fips column into a county column, replacing the numerical values with the corresponding county names based on information gathered from https://www.nrcs.usda.gov/wps/portal/nrcs/detail/national/home/?cid=nrcs143_013697\n",
    "5. I imputed null values for year_built based on the median year.\n",
    "\n",
    "**Results:**\n",
    "- 59962 Rows\n",
    "- 23 Columns \n",
    "  \n",
    "### Before exploration of variable relationships, I split the data into train, validate, and test data sets.\n",
    "\n",
    "**Below is an example of what the data looks like after data cleaning and splitting:**"
   ]
  },
  {
   "cell_type": "code",
   "execution_count": 4,
   "id": "068cc582",
   "metadata": {},
   "outputs": [
    {
     "name": "stdout",
     "output_type": "stream",
     "text": [
      "Using cached csv...\n"
     ]
    },
    {
     "data": {
      "text/html": [
       "<div>\n",
       "<style scoped>\n",
       "    .dataframe tbody tr th:only-of-type {\n",
       "        vertical-align: middle;\n",
       "    }\n",
       "\n",
       "    .dataframe tbody tr th {\n",
       "        vertical-align: top;\n",
       "    }\n",
       "\n",
       "    .dataframe thead th {\n",
       "        text-align: right;\n",
       "    }\n",
       "</style>\n",
       "<table border=\"1\" class=\"dataframe\">\n",
       "  <thead>\n",
       "    <tr style=\"text-align: right;\">\n",
       "      <th></th>\n",
       "      <th>bathrooms</th>\n",
       "      <th>bedrooms</th>\n",
       "      <th>building_quality</th>\n",
       "      <th>home_sqft</th>\n",
       "      <th>fips</th>\n",
       "      <th>latitude</th>\n",
       "      <th>longitude</th>\n",
       "      <th>lot_sqft</th>\n",
       "      <th>regionidcity</th>\n",
       "      <th>regionidcounty</th>\n",
       "      <th>...</th>\n",
       "      <th>year_built</th>\n",
       "      <th>structure_tax_value</th>\n",
       "      <th>assessed_value</th>\n",
       "      <th>land_tax_value</th>\n",
       "      <th>tax_amount</th>\n",
       "      <th>censustractandblock</th>\n",
       "      <th>logerror</th>\n",
       "      <th>heating_system</th>\n",
       "      <th>land_use</th>\n",
       "      <th>county</th>\n",
       "    </tr>\n",
       "  </thead>\n",
       "  <tbody>\n",
       "    <tr>\n",
       "      <th>67577</th>\n",
       "      <td>2.0</td>\n",
       "      <td>2.0</td>\n",
       "      <td>6.0</td>\n",
       "      <td>815.0</td>\n",
       "      <td>6059.0</td>\n",
       "      <td>33747500.0</td>\n",
       "      <td>-117863000.0</td>\n",
       "      <td>7140.0</td>\n",
       "      <td>47568.0</td>\n",
       "      <td>1286.0</td>\n",
       "      <td>...</td>\n",
       "      <td>1989.0</td>\n",
       "      <td>96379.0</td>\n",
       "      <td>167958.0</td>\n",
       "      <td>71579.0</td>\n",
       "      <td>2215.20</td>\n",
       "      <td>60590750022024.0</td>\n",
       "      <td>0.230662</td>\n",
       "      <td>None</td>\n",
       "      <td>Condominium</td>\n",
       "      <td>Orange</td>\n",
       "    </tr>\n",
       "    <tr>\n",
       "      <th>5673</th>\n",
       "      <td>2.0</td>\n",
       "      <td>2.0</td>\n",
       "      <td>8.0</td>\n",
       "      <td>1117.0</td>\n",
       "      <td>6037.0</td>\n",
       "      <td>33820500.0</td>\n",
       "      <td>-118342000.0</td>\n",
       "      <td>986080.0</td>\n",
       "      <td>54722.0</td>\n",
       "      <td>3101.0</td>\n",
       "      <td>...</td>\n",
       "      <td>1963.0</td>\n",
       "      <td>30210.0</td>\n",
       "      <td>95425.0</td>\n",
       "      <td>65215.0</td>\n",
       "      <td>1209.14</td>\n",
       "      <td>60376511022012.0</td>\n",
       "      <td>-0.002682</td>\n",
       "      <td>Central</td>\n",
       "      <td>Condominium</td>\n",
       "      <td>Los Angeles</td>\n",
       "    </tr>\n",
       "    <tr>\n",
       "      <th>16346</th>\n",
       "      <td>3.0</td>\n",
       "      <td>4.0</td>\n",
       "      <td>6.0</td>\n",
       "      <td>1469.0</td>\n",
       "      <td>6037.0</td>\n",
       "      <td>33805856.0</td>\n",
       "      <td>-118124873.0</td>\n",
       "      <td>6145.0</td>\n",
       "      <td>46298.0</td>\n",
       "      <td>3101.0</td>\n",
       "      <td>...</td>\n",
       "      <td>1952.0</td>\n",
       "      <td>132547.0</td>\n",
       "      <td>443207.0</td>\n",
       "      <td>310660.0</td>\n",
       "      <td>5404.60</td>\n",
       "      <td>60375742012000.0</td>\n",
       "      <td>0.067708</td>\n",
       "      <td>Floor/Wall</td>\n",
       "      <td>Single Family Residential</td>\n",
       "      <td>Los Angeles</td>\n",
       "    </tr>\n",
       "    <tr>\n",
       "      <th>24690</th>\n",
       "      <td>3.0</td>\n",
       "      <td>4.0</td>\n",
       "      <td>6.0</td>\n",
       "      <td>2030.0</td>\n",
       "      <td>6059.0</td>\n",
       "      <td>33606164.0</td>\n",
       "      <td>-117670415.0</td>\n",
       "      <td>8662.0</td>\n",
       "      <td>12773.0</td>\n",
       "      <td>1286.0</td>\n",
       "      <td>...</td>\n",
       "      <td>1968.0</td>\n",
       "      <td>168642.0</td>\n",
       "      <td>412426.0</td>\n",
       "      <td>243784.0</td>\n",
       "      <td>4196.14</td>\n",
       "      <td>60590320031009.0</td>\n",
       "      <td>0.002729</td>\n",
       "      <td>None</td>\n",
       "      <td>Single Family Residential</td>\n",
       "      <td>Orange</td>\n",
       "    </tr>\n",
       "    <tr>\n",
       "      <th>29587</th>\n",
       "      <td>1.0</td>\n",
       "      <td>2.0</td>\n",
       "      <td>6.0</td>\n",
       "      <td>864.0</td>\n",
       "      <td>6059.0</td>\n",
       "      <td>33844336.0</td>\n",
       "      <td>-117962041.0</td>\n",
       "      <td>7200.0</td>\n",
       "      <td>16764.0</td>\n",
       "      <td>1286.0</td>\n",
       "      <td>...</td>\n",
       "      <td>1948.0</td>\n",
       "      <td>54268.0</td>\n",
       "      <td>444000.0</td>\n",
       "      <td>389732.0</td>\n",
       "      <td>5314.98</td>\n",
       "      <td>60590868022006.0</td>\n",
       "      <td>0.017012</td>\n",
       "      <td>None</td>\n",
       "      <td>Single Family Residential</td>\n",
       "      <td>Orange</td>\n",
       "    </tr>\n",
       "  </tbody>\n",
       "</table>\n",
       "<p>5 rows × 22 columns</p>\n",
       "</div>"
      ],
      "text/plain": [
       "       bathrooms  bedrooms  building_quality  home_sqft    fips    latitude  \\\n",
       "67577        2.0       2.0               6.0      815.0  6059.0  33747500.0   \n",
       "5673         2.0       2.0               8.0     1117.0  6037.0  33820500.0   \n",
       "16346        3.0       4.0               6.0     1469.0  6037.0  33805856.0   \n",
       "24690        3.0       4.0               6.0     2030.0  6059.0  33606164.0   \n",
       "29587        1.0       2.0               6.0      864.0  6059.0  33844336.0   \n",
       "\n",
       "         longitude  lot_sqft regionidcity regionidcounty  ... year_built  \\\n",
       "67577 -117863000.0    7140.0      47568.0         1286.0  ...     1989.0   \n",
       "5673  -118342000.0  986080.0      54722.0         3101.0  ...     1963.0   \n",
       "16346 -118124873.0    6145.0      46298.0         3101.0  ...     1952.0   \n",
       "24690 -117670415.0    8662.0      12773.0         1286.0  ...     1968.0   \n",
       "29587 -117962041.0    7200.0      16764.0         1286.0  ...     1948.0   \n",
       "\n",
       "       structure_tax_value  assessed_value  land_tax_value  tax_amount  \\\n",
       "67577              96379.0        167958.0         71579.0     2215.20   \n",
       "5673               30210.0         95425.0         65215.0     1209.14   \n",
       "16346             132547.0        443207.0        310660.0     5404.60   \n",
       "24690             168642.0        412426.0        243784.0     4196.14   \n",
       "29587              54268.0        444000.0        389732.0     5314.98   \n",
       "\n",
       "       censustractandblock  logerror heating_system  \\\n",
       "67577     60590750022024.0  0.230662           None   \n",
       "5673      60376511022012.0 -0.002682        Central   \n",
       "16346     60375742012000.0  0.067708     Floor/Wall   \n",
       "24690     60590320031009.0  0.002729           None   \n",
       "29587     60590868022006.0  0.017012           None   \n",
       "\n",
       "                        land_use       county  \n",
       "67577                Condominium       Orange  \n",
       "5673                 Condominium  Los Angeles  \n",
       "16346  Single Family Residential  Los Angeles  \n",
       "24690  Single Family Residential       Orange  \n",
       "29587  Single Family Residential       Orange  \n",
       "\n",
       "[5 rows x 22 columns]"
      ]
     },
     "execution_count": 4,
     "metadata": {},
     "output_type": "execute_result"
    }
   ],
   "source": [
    "train, validate, test = w.wrangle_zillow()\n",
    "train.head()"
   ]
  },
  {
   "cell_type": "markdown",
   "id": "ba66ac10",
   "metadata": {},
   "source": [
    "- Our data is now split into 3 samples so that we can use the train sample to explore, fit to models and evaluate without looking at new data. \n",
    "- The validate is used to verify that our models built are not overfit to the train dataset. \n",
    "- The test set is used to give an estimate of how this model will perform on data is has never seen in the future."
   ]
  },
  {
   "cell_type": "markdown",
   "id": "fe69b502",
   "metadata": {},
   "source": [
    "## Exploratory Analysis ##\n",
    "**I started exploratory analysis by examning the correlations of all by variables with assessed_value.**"
   ]
  },
  {
   "cell_type": "code",
   "execution_count": 14,
   "id": "a7728ca5",
   "metadata": {},
   "outputs": [
    {
     "data": {
      "image/png": "[encoded data removed]",
      "text/plain": [
       "<Figure size 1080x576 with 1 Axes>"
      ]
     },
     "metadata": {
      "needs_background": "light"
     },
     "output_type": "display_data"
    }
   ],
   "source": [
    "df = train.copy()\n",
    "ex.plot_correlations(train)"
   ]
  },
  {
   "cell_type": "markdown",
   "id": "ece7f99a",
   "metadata": {},
   "source": [
    "**Takeaways:**\n",
    "- This gave me a good starting point by showing which variables are most highly correlated with my target: \n",
    "    - home_sqft, number of bedrooms, assessed_value and tax_amount are some of the stronger correlations."
   ]
  },
  {
   "cell_type": "markdown",
   "id": "c7d47788",
   "metadata": {},
   "source": [
    "**To guide my exploration, I sought to answer these initial questions:**\n",
    "\n",
    "1. Does logerror differ significantly for properties based on their county?\n",
    "2. Is the age of the property linearly correlated with logerror?\n",
    "3. Is home square feet linearly correlated with logerror?\n",
    "4. Is the number of building quality linearly correlated with logerror?"
   ]
  },
  {
   "cell_type": "markdown",
   "id": "a3a4423d",
   "metadata": {},
   "source": [
    "### Question 1: Does logerror differ significantly for properties based on their county?\n",
    "\n",
    "#### Los Angeles logerror vs. population logerror? \n",
    "\n",
    "$H0$: There is no significant difference between the county logerror and the total population logerror.\n",
    "\n",
    "$Ha$: There is a signifcant difference between the county logerror and the total population logerror."
   ]
  },
  {
   "cell_type": "code",
   "execution_count": 17,
   "id": "d75fc713-a72a-4ddd-b910-831f69f9893b",
   "metadata": {},
   "outputs": [],
   "source": [
    "# Set up variables for the county logerrors\n",
    "la = train[train.county == 'Los Angeles']\n",
    "orange = train[train.county == 'Orange']\n",
    "ventura = train[train.county == 'Ventura']"
   ]
  },
  {
   "cell_type": "code",
   "execution_count": 18,
   "id": "a5dcc84a",
   "metadata": {},
   "outputs": [
    {
     "name": "stdout",
     "output_type": "stream",
     "text": [
      "The correlation value between the two variables is 0.1531 and the P-Value is 1.6610748205816796e-171.\n",
      "----------------------------------------------------------------------------\n",
      "Since the P value is less than the alpha, we reject the null hypothesis.\n"
     ]
    }
   ],
   "source": [
    "# Predefined function that conducts a pearsonr test and prints out the results\n",
    "ex.pearsonr(train.bedrooms, train.assessed_value)"
   ]
  },
  {
   "cell_type": "code",
   "execution_count": 7,
   "id": "857cee71",
   "metadata": {},
   "outputs": [
    {
     "data": {
      "image/png": "[encoded data removed]",
      "text/plain": [
       "<Figure size 360x360 with 1 Axes>"
      ]
     },
     "metadata": {
      "needs_background": "light"
     },
     "output_type": "display_data"
    }
   ],
   "source": [
    "# Create a line plot with regression line to visualize relationship\n",
    "sns.lmplot(x='bedrooms', y='assessed_value', data=train, line_kws={'color':'red'})\n",
    "plt.show()"
   ]
  },
  {
   "cell_type": "code",
   "execution_count": 8,
   "id": "118d995a",
   "metadata": {},
   "outputs": [
    {
     "data": {
      "image/png": "[encoded data removed]",
      "text/plain": [
       "<Figure size 432x288 with 1 Axes>"
      ]
     },
     "metadata": {
      "needs_background": "light"
     },
     "output_type": "display_data"
    }
   ],
   "source": [
    "ex.plot_distribution(train, 'bedrooms')"
   ]
  },
  {
   "cell_type": "markdown",
   "id": "fd53e2a3",
   "metadata": {},
   "source": [
    "**Takeaway:**\n",
    "- As would be expected, the more bedrooms a home has the higher it's assessed value. There is a linear correlation.\n",
    "- Most properties have between three and four bedrooms."
   ]
  },
  {
   "cell_type": "markdown",
   "id": "060f35a7",
   "metadata": {},
   "source": [
    "### Question 2:  Is there a linear relationship between a home's number of bathrooms and it's assessed value?\n",
    "\n",
    "$H0$: The number of bathrooms a home has is not linearly correlated with assessed home value.\n",
    "\n",
    "$Ha$: The number of bathrooms a home has is linearly correlated with assessed home value."
   ]
  },
  {
   "cell_type": "code",
   "execution_count": 9,
   "id": "7e47c922",
   "metadata": {},
   "outputs": [
    {
     "name": "stdout",
     "output_type": "stream",
     "text": [
      "The correlation value between the two variables is 0.3068 and the P-Value is 0.0.\n",
      "----------------------------------------------------------------------------\n",
      "Since the P value is less than the alpha, we reject the null hypothesis.\n"
     ]
    }
   ],
   "source": [
    "# Predefined function that conducts a pearsonr test and prints out the results\n",
    "ex.pearsonr(train.bathrooms, train.assessed_value)"
   ]
  },
  {
   "cell_type": "code",
   "execution_count": 10,
   "id": "4a6f08bc",
   "metadata": {},
   "outputs": [
    {
     "data": {
      "image/png": "[encoded data removed]",
      "text/plain": [
       "<Figure size 360x360 with 1 Axes>"
      ]
     },
     "metadata": {
      "needs_background": "light"
     },
     "output_type": "display_data"
    }
   ],
   "source": [
    "# Create a line plot with regression line to visualize relationship\n",
    "sns.lmplot(x='bathrooms', y='assessed_value', data=train, line_kws={'color':'red'})\n",
    "plt.show()"
   ]
  },
  {
   "cell_type": "code",
   "execution_count": 11,
   "id": "8fb5f57a",
   "metadata": {},
   "outputs": [
    {
     "data": {
      "image/png": "[encoded data removed]",
      "text/plain": [
       "<Figure size 432x288 with 1 Axes>"
      ]
     },
     "metadata": {
      "needs_background": "light"
     },
     "output_type": "display_data"
    }
   ],
   "source": [
    "ex.plot_distribution(train, 'bathrooms')"
   ]
  },
  {
   "cell_type": "markdown",
   "id": "8cd1fca3",
   "metadata": {},
   "source": [
    "**Takeaways:**\n",
    "- As would be expected, the more bathrooms a home has the higher it's assessed value. There is a linear correlation.\n",
    "- Interestingly, the correlation is confimed here to be higher for bathrooms than for bedrooms. \n",
    "    - Perhaps this is because homes with more than two bathrooms tend to also have many bedrooms. "
   ]
  },
  {
   "cell_type": "markdown",
   "id": "a5cc08d6",
   "metadata": {},
   "source": [
    "### Question 3: Do homes have higher assessed value based on what county they are in?\n",
    "\n",
    "$H0$: County location is not correlated with assessed home value.\n",
    "\n",
    "$Ha$: County location is correlated with assessed home value."
   ]
  },
  {
   "cell_type": "code",
   "execution_count": 12,
   "id": "300a2d9d",
   "metadata": {},
   "outputs": [
    {
     "data": {
      "text/plain": [
       "<matplotlib.lines.Line2D at 0x7fc9707bf8b0>"
      ]
     },
     "execution_count": 12,
     "metadata": {},
     "output_type": "execute_result"
    },
    {
     "data": {
      "image/png": "[encoded data removed]",
      "text/plain": [
       "<Figure size 432x288 with 1 Axes>"
      ]
     },
     "metadata": {
      "needs_background": "light"
     },
     "output_type": "display_data"
    }
   ],
   "source": [
    "ex.plot_bar(train, 'county', 'assessed_value')"
   ]
  },
  {
   "cell_type": "code",
   "execution_count": 13,
   "id": "1e4a4c53",
   "metadata": {},
   "outputs": [
    {
     "ename": "KeyError",
     "evalue": "\"['square_feet'] not in index\"",
     "output_type": "error",
     "traceback": [
      "\u001b[0;31m---------------------------------------------------------------------------\u001b[0m",
      "\u001b[0;31mKeyError\u001b[0m                                  Traceback (most recent call last)",
      "\u001b[0;32m/var/folders/fg/q99bqqm954n5m7n5b4xn7tyw0000gn/T/ipykernel_82078/2395502512.py\u001b[0m in \u001b[0;36m<module>\u001b[0;34m\u001b[0m\n\u001b[0;32m----> 1\u001b[0;31m \u001b[0msns\u001b[0m\u001b[0;34m.\u001b[0m\u001b[0mlmplot\u001b[0m\u001b[0;34m(\u001b[0m\u001b[0mx\u001b[0m \u001b[0;34m=\u001b[0m \u001b[0;34m'square_feet'\u001b[0m\u001b[0;34m,\u001b[0m \u001b[0my\u001b[0m\u001b[0;34m=\u001b[0m \u001b[0;34m'assessed_value'\u001b[0m\u001b[0;34m,\u001b[0m \u001b[0mhue\u001b[0m\u001b[0;34m=\u001b[0m\u001b[0;34m'county'\u001b[0m\u001b[0;34m,\u001b[0m \u001b[0mdata\u001b[0m\u001b[0;34m=\u001b[0m\u001b[0mtrain\u001b[0m\u001b[0;34m,\u001b[0m \u001b[0msize\u001b[0m \u001b[0;34m=\u001b[0m \u001b[0;36m8\u001b[0m\u001b[0;34m,\u001b[0m \u001b[0mpalette\u001b[0m \u001b[0;34m=\u001b[0m \u001b[0;34m'Set1'\u001b[0m\u001b[0;34m)\u001b[0m\u001b[0;34m\u001b[0m\u001b[0;34m\u001b[0m\u001b[0m\n\u001b[0m\u001b[1;32m      2\u001b[0m \u001b[0mplt\u001b[0m\u001b[0;34m.\u001b[0m\u001b[0mtitle\u001b[0m\u001b[0;34m(\u001b[0m\u001b[0;34m'Ventura and Orange county homes are valued higher than LA county homes...'\u001b[0m\u001b[0;34m,\u001b[0m \u001b[0mfontsize\u001b[0m\u001b[0;34m=\u001b[0m \u001b[0;36m20\u001b[0m\u001b[0;34m)\u001b[0m\u001b[0;34m\u001b[0m\u001b[0;34m\u001b[0m\u001b[0m\n\u001b[1;32m      3\u001b[0m \u001b[0mplt\u001b[0m\u001b[0;34m.\u001b[0m\u001b[0mshow\u001b[0m\u001b[0;34m(\u001b[0m\u001b[0;34m)\u001b[0m\u001b[0;34m\u001b[0m\u001b[0;34m\u001b[0m\u001b[0m\n",
      "\u001b[0;32m/opt/homebrew/anaconda3/lib/python3.9/site-packages/seaborn/_decorators.py\u001b[0m in \u001b[0;36minner_f\u001b[0;34m(*args, **kwargs)\u001b[0m\n\u001b[1;32m     44\u001b[0m             )\n\u001b[1;32m     45\u001b[0m         \u001b[0mkwargs\u001b[0m\u001b[0;34m.\u001b[0m\u001b[0mupdate\u001b[0m\u001b[0;34m(\u001b[0m\u001b[0;34m{\u001b[0m\u001b[0mk\u001b[0m\u001b[0;34m:\u001b[0m \u001b[0marg\u001b[0m \u001b[0;32mfor\u001b[0m \u001b[0mk\u001b[0m\u001b[0;34m,\u001b[0m \u001b[0marg\u001b[0m \u001b[0;32min\u001b[0m \u001b[0mzip\u001b[0m\u001b[0;34m(\u001b[0m\u001b[0msig\u001b[0m\u001b[0;34m.\u001b[0m\u001b[0mparameters\u001b[0m\u001b[0;34m,\u001b[0m \u001b[0margs\u001b[0m\u001b[0;34m)\u001b[0m\u001b[0;34m}\u001b[0m\u001b[0;34m)\u001b[0m\u001b[0;34m\u001b[0m\u001b[0;34m\u001b[0m\u001b[0m\n\u001b[0;32m---> 46\u001b[0;31m         \u001b[0;32mreturn\u001b[0m \u001b[0mf\u001b[0m\u001b[0;34m(\u001b[0m\u001b[0;34m**\u001b[0m\u001b[0mkwargs\u001b[0m\u001b[0;34m)\u001b[0m\u001b[0;34m\u001b[0m\u001b[0;34m\u001b[0m\u001b[0m\n\u001b[0m\u001b[1;32m     47\u001b[0m     \u001b[0;32mreturn\u001b[0m \u001b[0minner_f\u001b[0m\u001b[0;34m\u001b[0m\u001b[0;34m\u001b[0m\u001b[0m\n\u001b[1;32m     48\u001b[0m \u001b[0;34m\u001b[0m\u001b[0m\n",
      "\u001b[0;32m/opt/homebrew/anaconda3/lib/python3.9/site-packages/seaborn/regression.py\u001b[0m in \u001b[0;36mlmplot\u001b[0;34m(x, y, data, hue, col, row, palette, col_wrap, height, aspect, markers, sharex, sharey, hue_order, col_order, row_order, legend, legend_out, x_estimator, x_bins, x_ci, scatter, fit_reg, ci, n_boot, units, seed, order, logistic, lowess, robust, logx, x_partial, y_partial, truncate, x_jitter, y_jitter, scatter_kws, line_kws, facet_kws, size)\u001b[0m\n\u001b[1;32m    603\u001b[0m     \u001b[0mneed_cols\u001b[0m \u001b[0;34m=\u001b[0m \u001b[0;34m[\u001b[0m\u001b[0mx\u001b[0m\u001b[0;34m,\u001b[0m \u001b[0my\u001b[0m\u001b[0;34m,\u001b[0m \u001b[0mhue\u001b[0m\u001b[0;34m,\u001b[0m \u001b[0mcol\u001b[0m\u001b[0;34m,\u001b[0m \u001b[0mrow\u001b[0m\u001b[0;34m,\u001b[0m \u001b[0munits\u001b[0m\u001b[0;34m,\u001b[0m \u001b[0mx_partial\u001b[0m\u001b[0;34m,\u001b[0m \u001b[0my_partial\u001b[0m\u001b[0;34m]\u001b[0m\u001b[0;34m\u001b[0m\u001b[0;34m\u001b[0m\u001b[0m\n\u001b[1;32m    604\u001b[0m     \u001b[0mcols\u001b[0m \u001b[0;34m=\u001b[0m \u001b[0mnp\u001b[0m\u001b[0;34m.\u001b[0m\u001b[0munique\u001b[0m\u001b[0;34m(\u001b[0m\u001b[0;34m[\u001b[0m\u001b[0ma\u001b[0m \u001b[0;32mfor\u001b[0m \u001b[0ma\u001b[0m \u001b[0;32min\u001b[0m \u001b[0mneed_cols\u001b[0m \u001b[0;32mif\u001b[0m \u001b[0ma\u001b[0m \u001b[0;32mis\u001b[0m \u001b[0;32mnot\u001b[0m \u001b[0;32mNone\u001b[0m\u001b[0;34m]\u001b[0m\u001b[0;34m)\u001b[0m\u001b[0;34m.\u001b[0m\u001b[0mtolist\u001b[0m\u001b[0;34m(\u001b[0m\u001b[0;34m)\u001b[0m\u001b[0;34m\u001b[0m\u001b[0;34m\u001b[0m\u001b[0m\n\u001b[0;32m--> 605\u001b[0;31m     \u001b[0mdata\u001b[0m \u001b[0;34m=\u001b[0m \u001b[0mdata\u001b[0m\u001b[0;34m[\u001b[0m\u001b[0mcols\u001b[0m\u001b[0;34m]\u001b[0m\u001b[0;34m\u001b[0m\u001b[0;34m\u001b[0m\u001b[0m\n\u001b[0m\u001b[1;32m    606\u001b[0m \u001b[0;34m\u001b[0m\u001b[0m\n\u001b[1;32m    607\u001b[0m     \u001b[0;31m# Initialize the grid\u001b[0m\u001b[0;34m\u001b[0m\u001b[0;34m\u001b[0m\u001b[0m\n",
      "\u001b[0;32m/opt/homebrew/anaconda3/lib/python3.9/site-packages/pandas/core/frame.py\u001b[0m in \u001b[0;36m__getitem__\u001b[0;34m(self, key)\u001b[0m\n\u001b[1;32m   3462\u001b[0m             \u001b[0;32mif\u001b[0m \u001b[0mis_iterator\u001b[0m\u001b[0;34m(\u001b[0m\u001b[0mkey\u001b[0m\u001b[0;34m)\u001b[0m\u001b[0;34m:\u001b[0m\u001b[0;34m\u001b[0m\u001b[0;34m\u001b[0m\u001b[0m\n\u001b[1;32m   3463\u001b[0m                 \u001b[0mkey\u001b[0m \u001b[0;34m=\u001b[0m \u001b[0mlist\u001b[0m\u001b[0;34m(\u001b[0m\u001b[0mkey\u001b[0m\u001b[0;34m)\u001b[0m\u001b[0;34m\u001b[0m\u001b[0;34m\u001b[0m\u001b[0m\n\u001b[0;32m-> 3464\u001b[0;31m             \u001b[0mindexer\u001b[0m \u001b[0;34m=\u001b[0m \u001b[0mself\u001b[0m\u001b[0;34m.\u001b[0m\u001b[0mloc\u001b[0m\u001b[0;34m.\u001b[0m\u001b[0m_get_listlike_indexer\u001b[0m\u001b[0;34m(\u001b[0m\u001b[0mkey\u001b[0m\u001b[0;34m,\u001b[0m \u001b[0maxis\u001b[0m\u001b[0;34m=\u001b[0m\u001b[0;36m1\u001b[0m\u001b[0;34m)\u001b[0m\u001b[0;34m[\u001b[0m\u001b[0;36m1\u001b[0m\u001b[0;34m]\u001b[0m\u001b[0;34m\u001b[0m\u001b[0;34m\u001b[0m\u001b[0m\n\u001b[0m\u001b[1;32m   3465\u001b[0m \u001b[0;34m\u001b[0m\u001b[0m\n\u001b[1;32m   3466\u001b[0m         \u001b[0;31m# take() does not accept boolean indexers\u001b[0m\u001b[0;34m\u001b[0m\u001b[0;34m\u001b[0m\u001b[0m\n",
      "\u001b[0;32m/opt/homebrew/anaconda3/lib/python3.9/site-packages/pandas/core/indexing.py\u001b[0m in \u001b[0;36m_get_listlike_indexer\u001b[0;34m(self, key, axis)\u001b[0m\n\u001b[1;32m   1312\u001b[0m             \u001b[0mkeyarr\u001b[0m\u001b[0;34m,\u001b[0m \u001b[0mindexer\u001b[0m\u001b[0;34m,\u001b[0m \u001b[0mnew_indexer\u001b[0m \u001b[0;34m=\u001b[0m \u001b[0max\u001b[0m\u001b[0;34m.\u001b[0m\u001b[0m_reindex_non_unique\u001b[0m\u001b[0;34m(\u001b[0m\u001b[0mkeyarr\u001b[0m\u001b[0;34m)\u001b[0m\u001b[0;34m\u001b[0m\u001b[0;34m\u001b[0m\u001b[0m\n\u001b[1;32m   1313\u001b[0m \u001b[0;34m\u001b[0m\u001b[0m\n\u001b[0;32m-> 1314\u001b[0;31m         \u001b[0mself\u001b[0m\u001b[0;34m.\u001b[0m\u001b[0m_validate_read_indexer\u001b[0m\u001b[0;34m(\u001b[0m\u001b[0mkeyarr\u001b[0m\u001b[0;34m,\u001b[0m \u001b[0mindexer\u001b[0m\u001b[0;34m,\u001b[0m \u001b[0maxis\u001b[0m\u001b[0;34m)\u001b[0m\u001b[0;34m\u001b[0m\u001b[0;34m\u001b[0m\u001b[0m\n\u001b[0m\u001b[1;32m   1315\u001b[0m \u001b[0;34m\u001b[0m\u001b[0m\n\u001b[1;32m   1316\u001b[0m         if needs_i8_conversion(ax.dtype) or isinstance(\n",
      "\u001b[0;32m/opt/homebrew/anaconda3/lib/python3.9/site-packages/pandas/core/indexing.py\u001b[0m in \u001b[0;36m_validate_read_indexer\u001b[0;34m(self, key, indexer, axis)\u001b[0m\n\u001b[1;32m   1375\u001b[0m \u001b[0;34m\u001b[0m\u001b[0m\n\u001b[1;32m   1376\u001b[0m             \u001b[0mnot_found\u001b[0m \u001b[0;34m=\u001b[0m \u001b[0mlist\u001b[0m\u001b[0;34m(\u001b[0m\u001b[0mensure_index\u001b[0m\u001b[0;34m(\u001b[0m\u001b[0mkey\u001b[0m\u001b[0;34m)\u001b[0m\u001b[0;34m[\u001b[0m\u001b[0mmissing_mask\u001b[0m\u001b[0;34m.\u001b[0m\u001b[0mnonzero\u001b[0m\u001b[0;34m(\u001b[0m\u001b[0;34m)\u001b[0m\u001b[0;34m[\u001b[0m\u001b[0;36m0\u001b[0m\u001b[0;34m]\u001b[0m\u001b[0;34m]\u001b[0m\u001b[0;34m.\u001b[0m\u001b[0munique\u001b[0m\u001b[0;34m(\u001b[0m\u001b[0;34m)\u001b[0m\u001b[0;34m)\u001b[0m\u001b[0;34m\u001b[0m\u001b[0;34m\u001b[0m\u001b[0m\n\u001b[0;32m-> 1377\u001b[0;31m             \u001b[0;32mraise\u001b[0m \u001b[0mKeyError\u001b[0m\u001b[0;34m(\u001b[0m\u001b[0;34mf\"{not_found} not in index\"\u001b[0m\u001b[0;34m)\u001b[0m\u001b[0;34m\u001b[0m\u001b[0;34m\u001b[0m\u001b[0m\n\u001b[0m\u001b[1;32m   1378\u001b[0m \u001b[0;34m\u001b[0m\u001b[0m\n\u001b[1;32m   1379\u001b[0m \u001b[0;34m\u001b[0m\u001b[0m\n",
      "\u001b[0;31mKeyError\u001b[0m: \"['square_feet'] not in index\""
     ]
    }
   ],
   "source": [
    "sns.lmplot(x = 'square_feet', y= 'assessed_value', hue='county', data=train, size = 8, palette = 'Set1')\n",
    "plt.title('Ventura and Orange county homes are valued higher than LA county homes...', fontsize= 20)\n",
    "plt.show()"
   ]
  },
  {
   "cell_type": "markdown",
   "id": "61345587",
   "metadata": {},
   "source": [
    "### Follow up question: Do homes in Ventura and Orange County have more square feet than homes in LA County?"
   ]
  },
  {
   "cell_type": "code",
   "execution_count": null,
   "id": "0545fbc8",
   "metadata": {},
   "outputs": [],
   "source": [
    "ex.plot_bar(train, 'county', 'square_feet')"
   ]
  },
  {
   "cell_type": "markdown",
   "id": "e386e221",
   "metadata": {},
   "source": [
    "**Takeaways:**\n",
    "- Homes in Ventura and Orange county do seem to be valued higher on average than homes in LA county. \n",
    "- That said, homes in these counties also have more square footage, which is likely the primary reason for the higher values."
   ]
  },
  {
   "cell_type": "markdown",
   "id": "5c4fc5cd",
   "metadata": {},
   "source": [
    "### Question 4: Does the year a home was built (how old it is) affect it's assessed value?\n",
    "\n",
    "$H0$: The year a home was built is not linearly correlated with assessed home value.\n",
    "\n",
    "$Ha$: The year a home was built is linearly correlated with assessed home value."
   ]
  },
  {
   "cell_type": "code",
   "execution_count": null,
   "id": "ca1c7aef",
   "metadata": {},
   "outputs": [],
   "source": [
    "sns.lmplot(x = 'year_built', y= 'assessed_value', data=train, size = 8, palette = 'Set1', line_kws={'color':'red'})\n",
    "plt.title('Newer homes are valued higher than older homes', fontsize= 20)\n",
    "plt.show()"
   ]
  },
  {
   "cell_type": "markdown",
   "id": "51651f6a",
   "metadata": {},
   "source": [
    "**Takeaway:**\n",
    "- There is a linear relationship betweent the age of a home and it's assessed value. Newer homes are generally worth more."
   ]
  },
  {
   "cell_type": "markdown",
   "id": "fecefe49",
   "metadata": {},
   "source": [
    "## Model and Evaluate\n",
    "\n",
    "### Preprocessing\n",
    "\n",
    "**Scale Data**\n",
    "\n",
    "**Below is a comparison of my variable distributions before and after scaling using a MinMaxScaler:**"
   ]
  },
  {
   "cell_type": "code",
   "execution_count": null,
   "id": "8a0b1a05",
   "metadata": {},
   "outputs": [],
   "source": [
    "# Visualize scaling of data before actually scaling\n",
    "wr.visualize_scaler(scaler=MinMaxScaler(), df=train, target_columns = ['bedrooms', 'bathrooms', 'square_feet'])"
   ]
  },
  {
   "cell_type": "markdown",
   "id": "43efaf4f",
   "metadata": {},
   "source": [
    "**Since distributions seem to be roughly similar and close to normal I will move forward with the MinMaxScaler.**"
   ]
  },
  {
   "cell_type": "code",
   "execution_count": null,
   "id": "e6d729cd",
   "metadata": {},
   "outputs": [],
   "source": [
    "# Scale data using MinMax Scaler\n",
    "train_scaled, validate_scaled, test_scaled = wr.scale_data_mvp(train, validate, test)"
   ]
  },
  {
   "cell_type": "markdown",
   "id": "8cad7827",
   "metadata": {},
   "source": [
    "#### Project Stipulation:\n",
    "\"For the first iteration of your model, use only square feet of the home, number of bedrooms, and number of bathrooms to estimate the property's assessed value, taxvaluedollarcnt. You can expand this to other fields after you have completed an mvp (minimally viable product).\"\n",
    "\n",
    "- I will create my X and Y groups accordingly to reach an MVP"
   ]
  },
  {
   "cell_type": "code",
   "execution_count": null,
   "id": "aea394a2",
   "metadata": {},
   "outputs": [],
   "source": [
    "#First Iteration - split into X and Y using scaled data\n",
    "X_train, y_train = train_scaled.drop(columns=['assessed_value', 'year_built', 'county']), train_scaled.assessed_value\n",
    "X_validate, y_validate = validate_scaled.drop(columns=['assessed_value', 'year_built', 'county']), validate_scaled.assessed_value\n",
    "X_test, y_test = test_scaled.drop(columns=['assessed_value', 'year_built', 'county']), test_scaled.assessed_value"
   ]
  },
  {
   "cell_type": "markdown",
   "id": "62531055",
   "metadata": {},
   "source": [
    "#### Calculate our baseline\n",
    "- Will caculate baseline based on both the mean and median and evaluate which has the lowest RMSE to decide which will be the baseline our model needs to beat."
   ]
  },
  {
   "cell_type": "code",
   "execution_count": null,
   "id": "24da5769",
   "metadata": {},
   "outputs": [],
   "source": [
    "#First convert y_train into Dataframes so the baselines can be easily calculated with pandas\n",
    "y_train = pd.DataFrame(y_train)\n",
    "y_validate = pd.DataFrame(y_validate)\n",
    "y_test =pd.DataFrame(y_test)\n",
    "\n",
    "# Create new data frame to hold my in sample predictions and the same for out of sample\n",
    "predictions_train = y_train.copy()\n",
    "predictions_train = predictions_train.rename(columns={'assessed_value':'actual'})\n",
    "predictions_validate = y_validate.copy()\n",
    "predictions_validate = predictions_validate.rename(columns={'assessed_value':'actual'})\n",
    "predictions_test = y_test.copy()\n",
    "predictions_test = predictions_test.rename(columns={'assessed_value':'actual'})\n",
    "\n",
    "\n",
    "#Calculate based on mean and add baseline predictions to a the train data frame holding predictions\n",
    "baseline_mean = y_train.assessed_value.mean()\n",
    "predictions_train['baseline_mean'] = baseline_mean\n",
    "predictions_validate['baseline_mean'] = baseline_mean\n",
    "predictions_test['baseline_mean'] = baseline_mean\n",
    "\n",
    "#Calculate based on median and add baseline predictions to the train data frame holding predictions\n",
    "baseline_median = y_train.assessed_value.median()\n",
    "predictions_train['baseline_median'] = baseline_median\n",
    "predictions_validate['baseline_median'] = baseline_median\n",
    "predictions_test['baseline_median'] = baseline_median"
   ]
  },
  {
   "cell_type": "code",
   "execution_count": null,
   "id": "2609dc13",
   "metadata": {},
   "outputs": [],
   "source": [
    "# Calculate RMSE based on mean \n",
    "mean_rmse = ev.rmse(predictions_train.actual, predictions_train.baseline_mean)\n",
    "\n",
    "# Calculate RMSE based on median \n",
    "median_rmse = ev.rmse(predictions_train.actual, predictions_train.baseline_median)\n",
    "\n",
    "print(\"RMSE using Mean as Baseline: \", mean_rmse, \n",
    "      \"\\nRMSE using Median as Baseline: \", median_rmse)"
   ]
  },
  {
   "cell_type": "markdown",
   "id": "3497fc6c",
   "metadata": {},
   "source": [
    "**The lower RMSE indicates a more predictive model so we will use the mean as our baseline.**"
   ]
  },
  {
   "cell_type": "markdown",
   "id": "086f24d5",
   "metadata": {},
   "source": [
    "## Regression Models - MVP\n",
    "\n",
    "**For my MVP I trained and fit the 4 models listed here:**\n",
    "\n",
    "Model 1 - Simple Model (Ordinary Least Squares)\n",
    "\n",
    "Model 2 - LASSO + LARS\n",
    "\n",
    "Model 3 - Polynomial Regression\n",
    "\n",
    "Model 4 - Generalized Linear Model\n",
    "\n",
    "\n",
    "**These were the evaluation results:**\n",
    "\n",
    "RMSE using OLS\n",
    "Train/In-Sample:  216208.36 \n",
    "Validate/Out-of-Sample:  217786.84\n",
    "\n",
    "RMSE using LassoLars\n",
    "Train/In-Sample:  216208.7 \n",
    "Validate/Out-of-Sample:  217788.65\n",
    "\n",
    "RMSE using Polynomial Features\n",
    "Train/In-Sample:  216040.7 \n",
    "Validate/Out-of-Sample:  217801.43\n",
    "\n",
    "RMSE using Generalized Linear Model\n",
    "Train/In-Sample:  216461.09 \n",
    "Validate/Out-of-Sample:  218190.72\n",
    "\n",
    "### Below I'll showcase the code for how I built my top 3 models:"
   ]
  },
  {
   "cell_type": "markdown",
   "id": "e601fa7e",
   "metadata": {},
   "source": [
    "### Model 1 - Simple Ordinary Least Squares"
   ]
  },
  {
   "cell_type": "code",
   "execution_count": null,
   "id": "545cf8e3",
   "metadata": {},
   "outputs": [],
   "source": [
    "## Model 1 - Simple Model -- Ordinary Least Squares\n",
    "\n",
    "#Create model\n",
    "lm = LinearRegression(normalize = True)\n",
    "\n",
    "#Fit model to train\n",
    "lm.fit(X_train, y_train)\n",
    "\n",
    "#Make predictions on test, validate\n",
    "predictions_train['ols_model'] = lm.predict(X_train)\n",
    "predictions_validate['ols_model'] = lm.predict(X_validate)"
   ]
  },
  {
   "cell_type": "markdown",
   "id": "124e27a3",
   "metadata": {},
   "source": [
    "### Model 3 - Polynomial Regression"
   ]
  },
  {
   "cell_type": "code",
   "execution_count": null,
   "id": "0e607458",
   "metadata": {},
   "outputs": [],
   "source": [
    "## Create the polynomial features\n",
    "\n",
    "# Create polynomial features\n",
    "pf = PolynomialFeatures(degree=2)\n",
    "\n",
    "# fit to my features and create a new version of X_train with transformed features\n",
    "X_train_poly = pf.fit_transform(X_train)\n",
    "\n",
    "# Transform features on X_validate and X_test\n",
    "X_validate_poly = pf.transform(X_validate)\n",
    "X_test_poly = pf.transform(X_test)\n",
    "\n",
    "## Create another simple linear regression model\n",
    "\n",
    "#Create model\n",
    "lm2 = LinearRegression(normalize=True)\n",
    "\n",
    "# Fit to training set with polynomial features\n",
    "lm2.fit(X_train_poly, y_train)\n",
    "\n",
    "# Make predictions on train and validate\n",
    "predictions_train['polynomial_model'] = lm2.predict(X_train_poly)\n",
    "predictions_validate['polynomial_model'] = lm2.predict(X_validate_poly)"
   ]
  },
  {
   "cell_type": "markdown",
   "id": "2586ef2e",
   "metadata": {},
   "source": [
    "### Model 4 - Generalized Linear Model -- TweedieRegressor"
   ]
  },
  {
   "cell_type": "code",
   "execution_count": null,
   "id": "fc7da894",
   "metadata": {},
   "outputs": [],
   "source": [
    "# create the model\n",
    "glm = TweedieRegressor(power=1, alpha=0)\n",
    "\n",
    "# fit the model to training data\n",
    "glm.fit(X_train, y_train)\n",
    "\n",
    "# make predictions on validate\n",
    "predictions_train['glm'] = glm.predict(X_train)\n",
    "predictions_validate['glm'] = glm.predict(X_validate)"
   ]
  },
  {
   "cell_type": "markdown",
   "id": "581ae2ff",
   "metadata": {},
   "source": [
    "**All models performed better than the baseline. The Simple OLS Model had the lowest RMSE score for both in-sample and out-of-sample data, so I chose it as my best model.**"
   ]
  },
  {
   "cell_type": "markdown",
   "id": "9bbfa2c6",
   "metadata": {},
   "source": [
    "### Evaluate Model 1 on Test Data"
   ]
  },
  {
   "cell_type": "code",
   "execution_count": null,
   "id": "a99c7333",
   "metadata": {},
   "outputs": [],
   "source": [
    "#Make predictions on test dataset\n",
    "predictions_test['ols_test'] = lm.predict(X_test)\n",
    "\n",
    "# Calculate RMSE\n",
    "test_rmse = ev.rmse(predictions_test.actual, predictions_test.ols_test)\n",
    "\n",
    "#Calculate R2 Score\n",
    "test_r2 = r2_score(predictions_test.actual, predictions_test.ols_test)\n",
    "\n",
    "\n",
    "print(\"RMSE using OLS\\nTest/Out-of-Sample: \", test_rmse) \n",
    "\n",
    "print(\"R2 Score using OLS\\nTest/Out-of-Sample: \", test_r2)     "
   ]
  },
  {
   "cell_type": "markdown",
   "id": "7cb3dc87",
   "metadata": {},
   "source": [
    "### Visualize Model Performance"
   ]
  },
  {
   "cell_type": "code",
   "execution_count": null,
   "id": "6fa6ac6d",
   "metadata": {},
   "outputs": [],
   "source": [
    "# plot to visualize actual vs predicted. \n",
    "plt.figure(figsize=(16,8))\n",
    "plt.hist(predictions_test.actual, color='blue', alpha=.5, label=\"Actual Assessed Value\")\n",
    "plt.hist(predictions_test.ols_test, color='red', alpha=.5, label=\"Model: Simple OLS Model\")\n",
    "plt.xlabel(\"Distribution\")\n",
    "plt.ylabel(\"Assessed Property Value\")\n",
    "plt.title(\"Comparing the Distribution of Actual Assessed Value to Distributions of Predicted Values for the Top Model\")\n",
    "plt.legend()\n",
    "plt.show()"
   ]
  },
  {
   "cell_type": "code",
   "execution_count": null,
   "id": "46243659",
   "metadata": {},
   "outputs": [],
   "source": [
    "ev.plot_residuals(predictions_test.actual, predictions_test.ols_test, predictions_test)"
   ]
  },
  {
   "cell_type": "markdown",
   "id": "081cb2a4",
   "metadata": {},
   "source": [
    "59962## Conclusions\n",
    "### I was able to complete my 3 original goals:\n",
    "\n",
    "**Built a Machine Learning Regression model that predicts property tax assessed values of Single Family Properties that had a transaction in 2017 using attributes of the properties:**\n",
    "- The simple Ordinary Least Squares Model was my best performing model and beat the baseline model.\n",
    "- RMSE of model was \\\\$220,027.11 vs a baseline RMSE of \\\\$243,610.21\n",
    "- R2 Score of model was 0.21\n",
    "\n",
    "**Discovered key drivers of assessed property value:**\n",
    "- Having more square footage increases the predited value of a property.\n",
    "- Having more bedrooms and bathrooms increases the predicted value of a property. \n",
    "- Location is a driver for assessed property value.\n",
    "    - Ventura and Orange County properties are valued higher than LA county.\n",
    "    - They are also larger properties on average which is likely the main driver.\n",
    "- Home age is a driver of assessed property value. The newer the home the higher the value.\n",
    "\n",
    "## Recommendations \n",
    "- Due to relatively low accuracy of current models, I wouldn't recommend using them for investment purposes unless improvements can be made.\n",
    "- Based on findings, when building future predictive models I would focus on the square footage, number of bathrooms, and age of properties which were my top 3 drivers.\n",
    "\n",
    "\n",
    "### Next Steps -- If I had more time I would....\n",
    "- Conduct feature engineering such as creating a new continuous feature that calculates the age of a property in years using the year_built variable. \n",
    "- Investigate my initial questions further -- Example: Determine whether or not county location still increases home value when all other variables are roughly the same.\n",
    "- Try new models using different paramaters and feature combinations"
   ]
  }
 ],
 "metadata": {
  "kernelspec": {
   "display_name": "Python 3.9.7 64-bit ('base': conda)",
   "language": "python",
   "name": "python397jvsc74a57bd038cca0c38332a56087b24af0bc80247f4fced29cb4f7f437d91dc159adec9c4e"
  },
  "language_info": {
   "codemirror_mode": {
    "name": "ipython",
    "version": 3
   },
   "file_extension": ".py",
   "mimetype": "text/x-python",
   "name": "python",
   "nbconvert_exporter": "python",
   "pygments_lexer": "ipython3",
   "version": "3.9.7"
  }
 },
 "nbformat": 4,
 "nbformat_minor": 5
}
